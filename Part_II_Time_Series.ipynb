{
 "cells": [
  {
   "cell_type": "markdown",
   "id": "02791af3",
   "metadata": {},
   "source": [
    "# Machine Learning using Python \n",
    "# Exam – Paper 1\n",
    "## Part II: Time Series\n",
    "## Problem Statements & Tasks:\n",
    "### Q1. Get the modal price of onion for each month for the Mumbai market (Hint: set monthly date as index and drop redundant columns)\n",
    "### Q2. Build time series model and check the performance of the model using RMSE\n",
    "### Q3. Plot ACF and PACF plots [5]\n",
    "### Q4. Exponential smoothing using Holt-Winter’s technique and Forecast onion price for Mumbai market"
   ]
  },
  {
   "cell_type": "markdown",
   "id": "20413282",
   "metadata": {},
   "source": [
    "# Importing Necessary Libraries:"
   ]
  },
  {
   "cell_type": "code",
   "execution_count": 1,
   "id": "cf4c1f86",
   "metadata": {},
   "outputs": [],
   "source": [
    "import warnings\n",
    "import itertools\n",
    "import numpy as np\n",
    "from dateutil.parser import parse \n",
    "import matplotlib.pyplot as plt\n",
    "warnings.filterwarnings(\"ignore\")\n",
    "plt.style.use('fivethirtyeight')\n",
    "import pandas as pd\n",
    "import seaborn as sns\n",
    "import statsmodels.api as sm\n",
    "import matplotlib as mpl\n",
    "plt.rcParams.update({'figure.figsize': (10, 7), 'figure.dpi': 120})"
   ]
  },
  {
   "cell_type": "markdown",
   "id": "dc00508f",
   "metadata": {},
   "source": [
    "# Importing the data:"
   ]
  },
  {
   "cell_type": "code",
   "execution_count": 2,
   "id": "1780b161",
   "metadata": {},
   "outputs": [],
   "source": [
    "df =pd.read_csv('MonthWiseMarketArrivals_Clean.csv')"
   ]
  },
  {
   "cell_type": "markdown",
   "id": "79fece92",
   "metadata": {},
   "source": [
    "# EDA:"
   ]
  },
  {
   "cell_type": "code",
   "execution_count": 3,
   "id": "227b668f",
   "metadata": {},
   "outputs": [
    {
     "data": {
      "text/html": [
       "<div>\n",
       "<style scoped>\n",
       "    .dataframe tbody tr th:only-of-type {\n",
       "        vertical-align: middle;\n",
       "    }\n",
       "\n",
       "    .dataframe tbody tr th {\n",
       "        vertical-align: top;\n",
       "    }\n",
       "\n",
       "    .dataframe thead th {\n",
       "        text-align: right;\n",
       "    }\n",
       "</style>\n",
       "<table border=\"1\" class=\"dataframe\">\n",
       "  <thead>\n",
       "    <tr style=\"text-align: right;\">\n",
       "      <th></th>\n",
       "      <th>market</th>\n",
       "      <th>month</th>\n",
       "      <th>year</th>\n",
       "      <th>quantity</th>\n",
       "      <th>priceMin</th>\n",
       "      <th>priceMax</th>\n",
       "      <th>priceMod</th>\n",
       "      <th>state</th>\n",
       "      <th>city</th>\n",
       "      <th>date</th>\n",
       "    </tr>\n",
       "  </thead>\n",
       "  <tbody>\n",
       "    <tr>\n",
       "      <th>0</th>\n",
       "      <td>ABOHAR(PB)</td>\n",
       "      <td>January</td>\n",
       "      <td>2005</td>\n",
       "      <td>2350</td>\n",
       "      <td>404</td>\n",
       "      <td>493</td>\n",
       "      <td>446</td>\n",
       "      <td>PB</td>\n",
       "      <td>ABOHAR</td>\n",
       "      <td>January-2005</td>\n",
       "    </tr>\n",
       "    <tr>\n",
       "      <th>1</th>\n",
       "      <td>ABOHAR(PB)</td>\n",
       "      <td>January</td>\n",
       "      <td>2006</td>\n",
       "      <td>900</td>\n",
       "      <td>487</td>\n",
       "      <td>638</td>\n",
       "      <td>563</td>\n",
       "      <td>PB</td>\n",
       "      <td>ABOHAR</td>\n",
       "      <td>January-2006</td>\n",
       "    </tr>\n",
       "    <tr>\n",
       "      <th>2</th>\n",
       "      <td>ABOHAR(PB)</td>\n",
       "      <td>January</td>\n",
       "      <td>2010</td>\n",
       "      <td>790</td>\n",
       "      <td>1283</td>\n",
       "      <td>1592</td>\n",
       "      <td>1460</td>\n",
       "      <td>PB</td>\n",
       "      <td>ABOHAR</td>\n",
       "      <td>January-2010</td>\n",
       "    </tr>\n",
       "    <tr>\n",
       "      <th>3</th>\n",
       "      <td>ABOHAR(PB)</td>\n",
       "      <td>January</td>\n",
       "      <td>2011</td>\n",
       "      <td>245</td>\n",
       "      <td>3067</td>\n",
       "      <td>3750</td>\n",
       "      <td>3433</td>\n",
       "      <td>PB</td>\n",
       "      <td>ABOHAR</td>\n",
       "      <td>January-2011</td>\n",
       "    </tr>\n",
       "    <tr>\n",
       "      <th>4</th>\n",
       "      <td>ABOHAR(PB)</td>\n",
       "      <td>January</td>\n",
       "      <td>2012</td>\n",
       "      <td>1035</td>\n",
       "      <td>523</td>\n",
       "      <td>686</td>\n",
       "      <td>605</td>\n",
       "      <td>PB</td>\n",
       "      <td>ABOHAR</td>\n",
       "      <td>January-2012</td>\n",
       "    </tr>\n",
       "    <tr>\n",
       "      <th>...</th>\n",
       "      <td>...</td>\n",
       "      <td>...</td>\n",
       "      <td>...</td>\n",
       "      <td>...</td>\n",
       "      <td>...</td>\n",
       "      <td>...</td>\n",
       "      <td>...</td>\n",
       "      <td>...</td>\n",
       "      <td>...</td>\n",
       "      <td>...</td>\n",
       "    </tr>\n",
       "    <tr>\n",
       "      <th>10222</th>\n",
       "      <td>YEOLA(MS)</td>\n",
       "      <td>December</td>\n",
       "      <td>2011</td>\n",
       "      <td>131326</td>\n",
       "      <td>282</td>\n",
       "      <td>612</td>\n",
       "      <td>526</td>\n",
       "      <td>MS</td>\n",
       "      <td>YEOLA</td>\n",
       "      <td>December-2011</td>\n",
       "    </tr>\n",
       "    <tr>\n",
       "      <th>10223</th>\n",
       "      <td>YEOLA(MS)</td>\n",
       "      <td>December</td>\n",
       "      <td>2012</td>\n",
       "      <td>207066</td>\n",
       "      <td>485</td>\n",
       "      <td>1327</td>\n",
       "      <td>1136</td>\n",
       "      <td>MS</td>\n",
       "      <td>YEOLA</td>\n",
       "      <td>December-2012</td>\n",
       "    </tr>\n",
       "    <tr>\n",
       "      <th>10224</th>\n",
       "      <td>YEOLA(MS)</td>\n",
       "      <td>December</td>\n",
       "      <td>2013</td>\n",
       "      <td>215883</td>\n",
       "      <td>472</td>\n",
       "      <td>1427</td>\n",
       "      <td>1177</td>\n",
       "      <td>MS</td>\n",
       "      <td>YEOLA</td>\n",
       "      <td>December-2013</td>\n",
       "    </tr>\n",
       "    <tr>\n",
       "      <th>10225</th>\n",
       "      <td>YEOLA(MS)</td>\n",
       "      <td>December</td>\n",
       "      <td>2014</td>\n",
       "      <td>201077</td>\n",
       "      <td>446</td>\n",
       "      <td>1654</td>\n",
       "      <td>1456</td>\n",
       "      <td>MS</td>\n",
       "      <td>YEOLA</td>\n",
       "      <td>December-2014</td>\n",
       "    </tr>\n",
       "    <tr>\n",
       "      <th>10226</th>\n",
       "      <td>YEOLA(MS)</td>\n",
       "      <td>December</td>\n",
       "      <td>2015</td>\n",
       "      <td>223315</td>\n",
       "      <td>609</td>\n",
       "      <td>1446</td>\n",
       "      <td>1126</td>\n",
       "      <td>MS</td>\n",
       "      <td>YEOLA</td>\n",
       "      <td>December-2015</td>\n",
       "    </tr>\n",
       "  </tbody>\n",
       "</table>\n",
       "<p>10227 rows × 10 columns</p>\n",
       "</div>"
      ],
      "text/plain": [
       "           market     month  year  quantity  priceMin  priceMax  priceMod  \\\n",
       "0      ABOHAR(PB)   January  2005      2350       404       493       446   \n",
       "1      ABOHAR(PB)   January  2006       900       487       638       563   \n",
       "2      ABOHAR(PB)   January  2010       790      1283      1592      1460   \n",
       "3      ABOHAR(PB)   January  2011       245      3067      3750      3433   \n",
       "4      ABOHAR(PB)   January  2012      1035       523       686       605   \n",
       "...           ...       ...   ...       ...       ...       ...       ...   \n",
       "10222   YEOLA(MS)  December  2011    131326       282       612       526   \n",
       "10223   YEOLA(MS)  December  2012    207066       485      1327      1136   \n",
       "10224   YEOLA(MS)  December  2013    215883       472      1427      1177   \n",
       "10225   YEOLA(MS)  December  2014    201077       446      1654      1456   \n",
       "10226   YEOLA(MS)  December  2015    223315       609      1446      1126   \n",
       "\n",
       "      state    city           date  \n",
       "0        PB  ABOHAR   January-2005  \n",
       "1        PB  ABOHAR   January-2006  \n",
       "2        PB  ABOHAR   January-2010  \n",
       "3        PB  ABOHAR   January-2011  \n",
       "4        PB  ABOHAR   January-2012  \n",
       "...     ...     ...            ...  \n",
       "10222    MS   YEOLA  December-2011  \n",
       "10223    MS   YEOLA  December-2012  \n",
       "10224    MS   YEOLA  December-2013  \n",
       "10225    MS   YEOLA  December-2014  \n",
       "10226    MS   YEOLA  December-2015  \n",
       "\n",
       "[10227 rows x 10 columns]"
      ]
     },
     "execution_count": 3,
     "metadata": {},
     "output_type": "execute_result"
    }
   ],
   "source": [
    "df"
   ]
  },
  {
   "cell_type": "code",
   "execution_count": 4,
   "id": "27953253",
   "metadata": {},
   "outputs": [
    {
     "data": {
      "text/html": [
       "<div>\n",
       "<style scoped>\n",
       "    .dataframe tbody tr th:only-of-type {\n",
       "        vertical-align: middle;\n",
       "    }\n",
       "\n",
       "    .dataframe tbody tr th {\n",
       "        vertical-align: top;\n",
       "    }\n",
       "\n",
       "    .dataframe thead th {\n",
       "        text-align: right;\n",
       "    }\n",
       "</style>\n",
       "<table border=\"1\" class=\"dataframe\">\n",
       "  <thead>\n",
       "    <tr style=\"text-align: right;\">\n",
       "      <th></th>\n",
       "      <th>market</th>\n",
       "      <th>month</th>\n",
       "      <th>year</th>\n",
       "      <th>quantity</th>\n",
       "      <th>priceMin</th>\n",
       "      <th>priceMax</th>\n",
       "      <th>priceMod</th>\n",
       "      <th>state</th>\n",
       "      <th>city</th>\n",
       "      <th>date</th>\n",
       "    </tr>\n",
       "  </thead>\n",
       "  <tbody>\n",
       "    <tr>\n",
       "      <th>7741</th>\n",
       "      <td>PIMPALGAON(MS)</td>\n",
       "      <td>October</td>\n",
       "      <td>1997</td>\n",
       "      <td>103984</td>\n",
       "      <td>251</td>\n",
       "      <td>413</td>\n",
       "      <td>345</td>\n",
       "      <td>MS</td>\n",
       "      <td>PIMPALGAON</td>\n",
       "      <td>October-1997</td>\n",
       "    </tr>\n",
       "    <tr>\n",
       "      <th>9684</th>\n",
       "      <td>SURAT(GUJ)</td>\n",
       "      <td>September</td>\n",
       "      <td>2005</td>\n",
       "      <td>11800</td>\n",
       "      <td>769</td>\n",
       "      <td>1048</td>\n",
       "      <td>909</td>\n",
       "      <td>GUJ</td>\n",
       "      <td>SURAT</td>\n",
       "      <td>September-2005</td>\n",
       "    </tr>\n",
       "    <tr>\n",
       "      <th>7527</th>\n",
       "      <td>PATNA</td>\n",
       "      <td>October</td>\n",
       "      <td>2005</td>\n",
       "      <td>870</td>\n",
       "      <td>1107</td>\n",
       "      <td>1414</td>\n",
       "      <td>1300</td>\n",
       "      <td>BHR</td>\n",
       "      <td>PATNA</td>\n",
       "      <td>October-2005</td>\n",
       "    </tr>\n",
       "    <tr>\n",
       "      <th>393</th>\n",
       "      <td>AHMEDNAGAR(MS)</td>\n",
       "      <td>April</td>\n",
       "      <td>2011</td>\n",
       "      <td>23339</td>\n",
       "      <td>100</td>\n",
       "      <td>610</td>\n",
       "      <td>425</td>\n",
       "      <td>MS</td>\n",
       "      <td>AHMEDNAGAR</td>\n",
       "      <td>April-2011</td>\n",
       "    </tr>\n",
       "    <tr>\n",
       "      <th>7729</th>\n",
       "      <td>PIMPALGAON(MS)</td>\n",
       "      <td>September</td>\n",
       "      <td>2004</td>\n",
       "      <td>227282</td>\n",
       "      <td>312</td>\n",
       "      <td>483</td>\n",
       "      <td>407</td>\n",
       "      <td>MS</td>\n",
       "      <td>PIMPALGAON</td>\n",
       "      <td>September-2004</td>\n",
       "    </tr>\n",
       "  </tbody>\n",
       "</table>\n",
       "</div>"
      ],
      "text/plain": [
       "              market      month  year  quantity  priceMin  priceMax  priceMod  \\\n",
       "7741  PIMPALGAON(MS)    October  1997    103984       251       413       345   \n",
       "9684      SURAT(GUJ)  September  2005     11800       769      1048       909   \n",
       "7527           PATNA    October  2005       870      1107      1414      1300   \n",
       "393   AHMEDNAGAR(MS)      April  2011     23339       100       610       425   \n",
       "7729  PIMPALGAON(MS)  September  2004    227282       312       483       407   \n",
       "\n",
       "     state        city            date  \n",
       "7741    MS  PIMPALGAON    October-1997  \n",
       "9684   GUJ       SURAT  September-2005  \n",
       "7527   BHR       PATNA    October-2005  \n",
       "393     MS  AHMEDNAGAR      April-2011  \n",
       "7729    MS  PIMPALGAON  September-2004  "
      ]
     },
     "execution_count": 4,
     "metadata": {},
     "output_type": "execute_result"
    }
   ],
   "source": [
    "df.sample(5)"
   ]
  },
  {
   "cell_type": "code",
   "execution_count": 5,
   "id": "8b2448fa",
   "metadata": {},
   "outputs": [
    {
     "data": {
      "text/plain": [
       "(10227, 10)"
      ]
     },
     "execution_count": 5,
     "metadata": {},
     "output_type": "execute_result"
    }
   ],
   "source": [
    "df.shape"
   ]
  },
  {
   "cell_type": "code",
   "execution_count": 6,
   "id": "a1e476e2",
   "metadata": {},
   "outputs": [
    {
     "name": "stdout",
     "output_type": "stream",
     "text": [
      "<class 'pandas.core.frame.DataFrame'>\n",
      "RangeIndex: 10227 entries, 0 to 10226\n",
      "Data columns (total 10 columns):\n",
      " #   Column    Non-Null Count  Dtype \n",
      "---  ------    --------------  ----- \n",
      " 0   market    10227 non-null  object\n",
      " 1   month     10227 non-null  object\n",
      " 2   year      10227 non-null  int64 \n",
      " 3   quantity  10227 non-null  int64 \n",
      " 4   priceMin  10227 non-null  int64 \n",
      " 5   priceMax  10227 non-null  int64 \n",
      " 6   priceMod  10227 non-null  int64 \n",
      " 7   state     10227 non-null  object\n",
      " 8   city      10227 non-null  object\n",
      " 9   date      10227 non-null  object\n",
      "dtypes: int64(5), object(5)\n",
      "memory usage: 799.1+ KB\n"
     ]
    }
   ],
   "source": [
    "df.info()"
   ]
  },
  {
   "cell_type": "code",
   "execution_count": 7,
   "id": "bcba56e9",
   "metadata": {},
   "outputs": [
    {
     "data": {
      "text/html": [
       "<div>\n",
       "<style scoped>\n",
       "    .dataframe tbody tr th:only-of-type {\n",
       "        vertical-align: middle;\n",
       "    }\n",
       "\n",
       "    .dataframe tbody tr th {\n",
       "        vertical-align: top;\n",
       "    }\n",
       "\n",
       "    .dataframe thead th {\n",
       "        text-align: right;\n",
       "    }\n",
       "</style>\n",
       "<table border=\"1\" class=\"dataframe\">\n",
       "  <thead>\n",
       "    <tr style=\"text-align: right;\">\n",
       "      <th></th>\n",
       "      <th>year</th>\n",
       "      <th>quantity</th>\n",
       "      <th>priceMin</th>\n",
       "      <th>priceMax</th>\n",
       "      <th>priceMod</th>\n",
       "    </tr>\n",
       "  </thead>\n",
       "  <tbody>\n",
       "    <tr>\n",
       "      <th>count</th>\n",
       "      <td>10227.000000</td>\n",
       "      <td>1.022700e+04</td>\n",
       "      <td>10227.000000</td>\n",
       "      <td>10227.000000</td>\n",
       "      <td>10227.000000</td>\n",
       "    </tr>\n",
       "    <tr>\n",
       "      <th>mean</th>\n",
       "      <td>2009.022294</td>\n",
       "      <td>7.660488e+04</td>\n",
       "      <td>646.944363</td>\n",
       "      <td>1212.760731</td>\n",
       "      <td>984.284345</td>\n",
       "    </tr>\n",
       "    <tr>\n",
       "      <th>std</th>\n",
       "      <td>4.372841</td>\n",
       "      <td>1.244087e+05</td>\n",
       "      <td>673.121850</td>\n",
       "      <td>979.658874</td>\n",
       "      <td>818.471498</td>\n",
       "    </tr>\n",
       "    <tr>\n",
       "      <th>min</th>\n",
       "      <td>1996.000000</td>\n",
       "      <td>2.000000e+01</td>\n",
       "      <td>16.000000</td>\n",
       "      <td>145.000000</td>\n",
       "      <td>80.000000</td>\n",
       "    </tr>\n",
       "    <tr>\n",
       "      <th>25%</th>\n",
       "      <td>2006.000000</td>\n",
       "      <td>8.898000e+03</td>\n",
       "      <td>209.000000</td>\n",
       "      <td>557.000000</td>\n",
       "      <td>448.000000</td>\n",
       "    </tr>\n",
       "    <tr>\n",
       "      <th>50%</th>\n",
       "      <td>2009.000000</td>\n",
       "      <td>2.746000e+04</td>\n",
       "      <td>440.000000</td>\n",
       "      <td>923.000000</td>\n",
       "      <td>747.000000</td>\n",
       "    </tr>\n",
       "    <tr>\n",
       "      <th>75%</th>\n",
       "      <td>2013.000000</td>\n",
       "      <td>8.835650e+04</td>\n",
       "      <td>828.000000</td>\n",
       "      <td>1527.000000</td>\n",
       "      <td>1248.000000</td>\n",
       "    </tr>\n",
       "    <tr>\n",
       "      <th>max</th>\n",
       "      <td>2016.000000</td>\n",
       "      <td>1.639032e+06</td>\n",
       "      <td>6000.000000</td>\n",
       "      <td>8192.000000</td>\n",
       "      <td>6400.000000</td>\n",
       "    </tr>\n",
       "  </tbody>\n",
       "</table>\n",
       "</div>"
      ],
      "text/plain": [
       "               year      quantity      priceMin      priceMax      priceMod\n",
       "count  10227.000000  1.022700e+04  10227.000000  10227.000000  10227.000000\n",
       "mean    2009.022294  7.660488e+04    646.944363   1212.760731    984.284345\n",
       "std        4.372841  1.244087e+05    673.121850    979.658874    818.471498\n",
       "min     1996.000000  2.000000e+01     16.000000    145.000000     80.000000\n",
       "25%     2006.000000  8.898000e+03    209.000000    557.000000    448.000000\n",
       "50%     2009.000000  2.746000e+04    440.000000    923.000000    747.000000\n",
       "75%     2013.000000  8.835650e+04    828.000000   1527.000000   1248.000000\n",
       "max     2016.000000  1.639032e+06   6000.000000   8192.000000   6400.000000"
      ]
     },
     "execution_count": 7,
     "metadata": {},
     "output_type": "execute_result"
    }
   ],
   "source": [
    "df.describe()"
   ]
  },
  {
   "cell_type": "code",
   "execution_count": 8,
   "id": "e9b9c6a5",
   "metadata": {},
   "outputs": [
    {
     "data": {
      "text/html": [
       "<div>\n",
       "<style scoped>\n",
       "    .dataframe tbody tr th:only-of-type {\n",
       "        vertical-align: middle;\n",
       "    }\n",
       "\n",
       "    .dataframe tbody tr th {\n",
       "        vertical-align: top;\n",
       "    }\n",
       "\n",
       "    .dataframe thead th {\n",
       "        text-align: right;\n",
       "    }\n",
       "</style>\n",
       "<table border=\"1\" class=\"dataframe\">\n",
       "  <thead>\n",
       "    <tr style=\"text-align: right;\">\n",
       "      <th></th>\n",
       "      <th>market</th>\n",
       "      <th>month</th>\n",
       "      <th>year</th>\n",
       "      <th>quantity</th>\n",
       "      <th>priceMin</th>\n",
       "      <th>priceMax</th>\n",
       "      <th>priceMod</th>\n",
       "      <th>state</th>\n",
       "      <th>city</th>\n",
       "      <th>date</th>\n",
       "    </tr>\n",
       "  </thead>\n",
       "  <tbody>\n",
       "    <tr>\n",
       "      <th>count</th>\n",
       "      <td>10227</td>\n",
       "      <td>10227</td>\n",
       "      <td>10227.000000</td>\n",
       "      <td>1.022700e+04</td>\n",
       "      <td>10227.000000</td>\n",
       "      <td>10227.000000</td>\n",
       "      <td>10227.000000</td>\n",
       "      <td>10227</td>\n",
       "      <td>10227</td>\n",
       "      <td>10227</td>\n",
       "    </tr>\n",
       "    <tr>\n",
       "      <th>unique</th>\n",
       "      <td>120</td>\n",
       "      <td>12</td>\n",
       "      <td>NaN</td>\n",
       "      <td>NaN</td>\n",
       "      <td>NaN</td>\n",
       "      <td>NaN</td>\n",
       "      <td>NaN</td>\n",
       "      <td>21</td>\n",
       "      <td>117</td>\n",
       "      <td>242</td>\n",
       "    </tr>\n",
       "    <tr>\n",
       "      <th>top</th>\n",
       "      <td>LASALGAON(MS)</td>\n",
       "      <td>February</td>\n",
       "      <td>NaN</td>\n",
       "      <td>NaN</td>\n",
       "      <td>NaN</td>\n",
       "      <td>NaN</td>\n",
       "      <td>NaN</td>\n",
       "      <td>MS</td>\n",
       "      <td>LASALGAON</td>\n",
       "      <td>September-2015</td>\n",
       "    </tr>\n",
       "    <tr>\n",
       "      <th>freq</th>\n",
       "      <td>242</td>\n",
       "      <td>930</td>\n",
       "      <td>NaN</td>\n",
       "      <td>NaN</td>\n",
       "      <td>NaN</td>\n",
       "      <td>NaN</td>\n",
       "      <td>NaN</td>\n",
       "      <td>4354</td>\n",
       "      <td>242</td>\n",
       "      <td>97</td>\n",
       "    </tr>\n",
       "    <tr>\n",
       "      <th>mean</th>\n",
       "      <td>NaN</td>\n",
       "      <td>NaN</td>\n",
       "      <td>2009.022294</td>\n",
       "      <td>7.660488e+04</td>\n",
       "      <td>646.944363</td>\n",
       "      <td>1212.760731</td>\n",
       "      <td>984.284345</td>\n",
       "      <td>NaN</td>\n",
       "      <td>NaN</td>\n",
       "      <td>NaN</td>\n",
       "    </tr>\n",
       "    <tr>\n",
       "      <th>std</th>\n",
       "      <td>NaN</td>\n",
       "      <td>NaN</td>\n",
       "      <td>4.372841</td>\n",
       "      <td>1.244087e+05</td>\n",
       "      <td>673.121850</td>\n",
       "      <td>979.658874</td>\n",
       "      <td>818.471498</td>\n",
       "      <td>NaN</td>\n",
       "      <td>NaN</td>\n",
       "      <td>NaN</td>\n",
       "    </tr>\n",
       "    <tr>\n",
       "      <th>min</th>\n",
       "      <td>NaN</td>\n",
       "      <td>NaN</td>\n",
       "      <td>1996.000000</td>\n",
       "      <td>2.000000e+01</td>\n",
       "      <td>16.000000</td>\n",
       "      <td>145.000000</td>\n",
       "      <td>80.000000</td>\n",
       "      <td>NaN</td>\n",
       "      <td>NaN</td>\n",
       "      <td>NaN</td>\n",
       "    </tr>\n",
       "    <tr>\n",
       "      <th>25%</th>\n",
       "      <td>NaN</td>\n",
       "      <td>NaN</td>\n",
       "      <td>2006.000000</td>\n",
       "      <td>8.898000e+03</td>\n",
       "      <td>209.000000</td>\n",
       "      <td>557.000000</td>\n",
       "      <td>448.000000</td>\n",
       "      <td>NaN</td>\n",
       "      <td>NaN</td>\n",
       "      <td>NaN</td>\n",
       "    </tr>\n",
       "    <tr>\n",
       "      <th>50%</th>\n",
       "      <td>NaN</td>\n",
       "      <td>NaN</td>\n",
       "      <td>2009.000000</td>\n",
       "      <td>2.746000e+04</td>\n",
       "      <td>440.000000</td>\n",
       "      <td>923.000000</td>\n",
       "      <td>747.000000</td>\n",
       "      <td>NaN</td>\n",
       "      <td>NaN</td>\n",
       "      <td>NaN</td>\n",
       "    </tr>\n",
       "    <tr>\n",
       "      <th>75%</th>\n",
       "      <td>NaN</td>\n",
       "      <td>NaN</td>\n",
       "      <td>2013.000000</td>\n",
       "      <td>8.835650e+04</td>\n",
       "      <td>828.000000</td>\n",
       "      <td>1527.000000</td>\n",
       "      <td>1248.000000</td>\n",
       "      <td>NaN</td>\n",
       "      <td>NaN</td>\n",
       "      <td>NaN</td>\n",
       "    </tr>\n",
       "    <tr>\n",
       "      <th>max</th>\n",
       "      <td>NaN</td>\n",
       "      <td>NaN</td>\n",
       "      <td>2016.000000</td>\n",
       "      <td>1.639032e+06</td>\n",
       "      <td>6000.000000</td>\n",
       "      <td>8192.000000</td>\n",
       "      <td>6400.000000</td>\n",
       "      <td>NaN</td>\n",
       "      <td>NaN</td>\n",
       "      <td>NaN</td>\n",
       "    </tr>\n",
       "  </tbody>\n",
       "</table>\n",
       "</div>"
      ],
      "text/plain": [
       "               market     month          year      quantity      priceMin  \\\n",
       "count           10227     10227  10227.000000  1.022700e+04  10227.000000   \n",
       "unique            120        12           NaN           NaN           NaN   \n",
       "top     LASALGAON(MS)  February           NaN           NaN           NaN   \n",
       "freq              242       930           NaN           NaN           NaN   \n",
       "mean              NaN       NaN   2009.022294  7.660488e+04    646.944363   \n",
       "std               NaN       NaN      4.372841  1.244087e+05    673.121850   \n",
       "min               NaN       NaN   1996.000000  2.000000e+01     16.000000   \n",
       "25%               NaN       NaN   2006.000000  8.898000e+03    209.000000   \n",
       "50%               NaN       NaN   2009.000000  2.746000e+04    440.000000   \n",
       "75%               NaN       NaN   2013.000000  8.835650e+04    828.000000   \n",
       "max               NaN       NaN   2016.000000  1.639032e+06   6000.000000   \n",
       "\n",
       "            priceMax      priceMod  state       city            date  \n",
       "count   10227.000000  10227.000000  10227      10227           10227  \n",
       "unique           NaN           NaN     21        117             242  \n",
       "top              NaN           NaN     MS  LASALGAON  September-2015  \n",
       "freq             NaN           NaN   4354        242              97  \n",
       "mean     1212.760731    984.284345    NaN        NaN             NaN  \n",
       "std       979.658874    818.471498    NaN        NaN             NaN  \n",
       "min       145.000000     80.000000    NaN        NaN             NaN  \n",
       "25%       557.000000    448.000000    NaN        NaN             NaN  \n",
       "50%       923.000000    747.000000    NaN        NaN             NaN  \n",
       "75%      1527.000000   1248.000000    NaN        NaN             NaN  \n",
       "max      8192.000000   6400.000000    NaN        NaN             NaN  "
      ]
     },
     "execution_count": 8,
     "metadata": {},
     "output_type": "execute_result"
    }
   ],
   "source": [
    "df.describe(include='all')"
   ]
  },
  {
   "cell_type": "code",
   "execution_count": 9,
   "id": "a10509dc",
   "metadata": {},
   "outputs": [
    {
     "data": {
      "text/plain": [
       "market      0\n",
       "month       0\n",
       "year        0\n",
       "quantity    0\n",
       "priceMin    0\n",
       "priceMax    0\n",
       "priceMod    0\n",
       "state       0\n",
       "city        0\n",
       "date        0\n",
       "dtype: int64"
      ]
     },
     "execution_count": 9,
     "metadata": {},
     "output_type": "execute_result"
    }
   ],
   "source": [
    "# Checking for missing values:\n",
    "df.isnull().sum()"
   ]
  },
  {
   "cell_type": "markdown",
   "id": "9247da72",
   "metadata": {},
   "source": [
    "### No missing values present in the data."
   ]
  },
  {
   "cell_type": "markdown",
   "id": "ae722486",
   "metadata": {},
   "source": [
    "# Task Q1. Get the modal price of onion for each month for the Mumbai market (Hint: set monthly date as index and drop redundant columns)"
   ]
  },
  {
   "cell_type": "code",
   "execution_count": 10,
   "id": "0259f3a6",
   "metadata": {},
   "outputs": [
    {
     "data": {
      "text/plain": [
       "array(['ABOHAR(PB)', 'AGRA(UP)', 'AHMEDABAD(GUJ)', 'AHMEDNAGAR(MS)',\n",
       "       'AJMER(RAJ)', 'ALIGARH(UP)', 'ALWAR(RAJ)', 'AMRITSAR(PB)',\n",
       "       'BALLIA(UP)', 'BANGALORE', 'BAREILLY(UP)', 'BELGAUM(KNT)',\n",
       "       'BHATINDA(PB)', 'BHAVNAGAR(GUJ)', 'BHOPAL', 'BHUBNESWER(OR)',\n",
       "       'BIHARSHARIF(BHR)', 'BIJAPUR(KNT)', 'BIKANER(RAJ)', 'BOMBORI(MS)',\n",
       "       'BURDWAN(WB)', 'CHAKAN(MS)', 'CHALLAKERE(KNT)', 'CHANDIGARH',\n",
       "       'CHANDVAD(MS)', 'CHENNAI', 'CHICKBALLAPUR(KNT)',\n",
       "       'COIMBATORE(TN) (bellary)', 'COIMBATORE(TN) (podisu)',\n",
       "       'DEESA(GUJ)', 'DEHRADOON(UTT)', 'DELHI', 'DEORIA(UP)',\n",
       "       'DEVALA(MS)', 'DEWAS(MP)', 'DHAVANGERE(KNT)', 'DHULIA(MS)',\n",
       "       'DINDIGUL(TN)', 'DINDIGUL(TN)(Podis', 'DINDORI(MS)', 'ETAWAH(UP)',\n",
       "       'GONDAL(GUJ)', 'GORAKHPUR(UP)', 'GUWAHATI', 'HALDWANI(UTT)',\n",
       "       'HASSAN(KNT)', 'HOSHIARPUR(PB)', 'HUBLI(KNT)', 'HYDERABAD',\n",
       "       'INDORE(MP)', 'JAIPUR', 'JALANDHAR(PB)', 'JALGAON(MS)',\n",
       "       'JALGAON(WHITE)', 'JAMMU', 'JAMNAGAR(GUJ)', 'JODHPUR(RAJ)',\n",
       "       'JUNNAR(MS)', 'KALVAN(MS)', 'KANPUR(UP)', 'KARNAL(HR)',\n",
       "       'KHANNA(PB)', 'KOLAR(KNT)', 'KOLHAPUR(MS)', 'KOLKATA',\n",
       "       'KOPERGAON(MS)', 'KOTA(RAJ)', 'KURNOOL(AP)', 'LASALGAON(MS)',\n",
       "       'LONAND(MS)', 'LUCKNOW', 'LUDHIANA(PB)', 'MADURAI(TN)',\n",
       "       'MAHUVA(GUJ)', 'MALEGAON(MS)', 'MANDSOUR(MP)', 'MANMAD(MS)',\n",
       "       'MEERUT(UP)', 'MIDNAPUR(WB)', 'MUMBAI', 'NAGPUR', 'NANDGAON(MS)',\n",
       "       'NASIK(MS)', 'NEEMUCH(MP)', 'NEWASA(MS)', 'NIPHAD(MS)',\n",
       "       'PALAYAM(KER)', 'PATIALA(PB)', 'PATNA', 'PHALTAN (MS)',\n",
       "       'PIMPALGAON(MS)', 'PUNE(MS)', 'PURULIA(WB)', 'RAHATA(MS)',\n",
       "       'RAHURI(MS)', 'RAICHUR(KNT)', 'RAIPUR(CHGARH)', 'RAJAHMUNDRY(AP)',\n",
       "       'RAJKOT(GUJ)', 'RANCHI(JH)', 'SAGAR(MP)', 'SAIKHEDA(MS)',\n",
       "       'SANGALI(MS)', 'SANGAMNER(MS)', 'SATANA(MS)', 'SHEROAPHULY(WB)',\n",
       "       'SHIMLA', 'SHRIRAMPUR(MS)', 'SINNAR(MS)', 'SOLAPUR(MS)',\n",
       "       'SRIGANGANAGAR(RAJ)', 'SRINAGAR', 'SRIRAMPUR(MS)', 'SURAT(GUJ)',\n",
       "       'TRIVENDRUM', 'UDAIPUR(RAJ)', 'UJJAIN(MP)', 'VANI(MS)',\n",
       "       'VARANASI(UP)', 'YEOLA(MS)'], dtype=object)"
      ]
     },
     "execution_count": 10,
     "metadata": {},
     "output_type": "execute_result"
    }
   ],
   "source": [
    "df['market'].unique()"
   ]
  },
  {
   "cell_type": "code",
   "execution_count": 11,
   "id": "cf719d17",
   "metadata": {},
   "outputs": [
    {
     "ename": "SyntaxError",
     "evalue": "invalid syntax (Temp/ipykernel_4560/4035387041.py, line 1)",
     "output_type": "error",
     "traceback": [
      "\u001b[1;36m  File \u001b[1;32m\"C:\\Users\\PRANES~1\\AppData\\Local\\Temp/ipykernel_4560/4035387041.py\"\u001b[1;36m, line \u001b[1;32m1\u001b[0m\n\u001b[1;33m    for df.market=='MUMBAI':\u001b[0m\n\u001b[1;37m                           ^\u001b[0m\n\u001b[1;31mSyntaxError\u001b[0m\u001b[1;31m:\u001b[0m invalid syntax\n"
     ]
    }
   ],
   "source": [
    "for df.market=='MUMBAI':\n",
    "    mop=pd.concat([df.date,df.priceMod],axis=1)"
   ]
  },
  {
   "cell_type": "code",
   "execution_count": null,
   "id": "57eb76fd",
   "metadata": {},
   "outputs": [],
   "source": [
    "mop.set_index('date')"
   ]
  },
  {
   "cell_type": "markdown",
   "id": "7699615d",
   "metadata": {},
   "source": [
    "# Got the modal price of onion for each month for the Mumbai market"
   ]
  },
  {
   "cell_type": "code",
   "execution_count": null,
   "id": "d7d0d07a",
   "metadata": {},
   "outputs": [],
   "source": []
  },
  {
   "cell_type": "code",
   "execution_count": null,
   "id": "a9d055c4",
   "metadata": {},
   "outputs": [],
   "source": []
  },
  {
   "cell_type": "code",
   "execution_count": null,
   "id": "5eb1f9d7",
   "metadata": {},
   "outputs": [],
   "source": []
  },
  {
   "cell_type": "code",
   "execution_count": null,
   "id": "e95ae3d7",
   "metadata": {},
   "outputs": [],
   "source": []
  },
  {
   "cell_type": "code",
   "execution_count": null,
   "id": "ce6f4364",
   "metadata": {},
   "outputs": [],
   "source": []
  },
  {
   "cell_type": "code",
   "execution_count": null,
   "id": "18780b01",
   "metadata": {},
   "outputs": [],
   "source": []
  },
  {
   "cell_type": "code",
   "execution_count": null,
   "id": "d1ab7625",
   "metadata": {},
   "outputs": [],
   "source": []
  },
  {
   "cell_type": "code",
   "execution_count": null,
   "id": "0d542869",
   "metadata": {},
   "outputs": [],
   "source": []
  },
  {
   "cell_type": "code",
   "execution_count": null,
   "id": "4e255573",
   "metadata": {},
   "outputs": [],
   "source": []
  },
  {
   "cell_type": "code",
   "execution_count": null,
   "id": "dfff305c",
   "metadata": {},
   "outputs": [],
   "source": []
  },
  {
   "cell_type": "code",
   "execution_count": null,
   "id": "83512a0b",
   "metadata": {},
   "outputs": [],
   "source": []
  },
  {
   "cell_type": "code",
   "execution_count": null,
   "id": "c8539807",
   "metadata": {},
   "outputs": [],
   "source": []
  },
  {
   "cell_type": "code",
   "execution_count": null,
   "id": "d20f3847",
   "metadata": {},
   "outputs": [],
   "source": []
  },
  {
   "cell_type": "code",
   "execution_count": null,
   "id": "c5ca401a",
   "metadata": {},
   "outputs": [],
   "source": []
  },
  {
   "cell_type": "code",
   "execution_count": null,
   "id": "4aa76ef9",
   "metadata": {},
   "outputs": [],
   "source": []
  },
  {
   "cell_type": "code",
   "execution_count": null,
   "id": "95bd28a8",
   "metadata": {},
   "outputs": [],
   "source": []
  },
  {
   "cell_type": "code",
   "execution_count": null,
   "id": "77a1841d",
   "metadata": {},
   "outputs": [],
   "source": [
    "tdf = df.groupby('Order Date')['Sales'].sum().reset_index()"
   ]
  },
  {
   "cell_type": "code",
   "execution_count": null,
   "id": "9f52c2a1",
   "metadata": {},
   "outputs": [],
   "source": [
    "tdf"
   ]
  },
  {
   "cell_type": "code",
   "execution_count": null,
   "id": "b106ce99",
   "metadata": {},
   "outputs": [],
   "source": [
    "# Creating a new dataframe to work on time & sales features\n",
    "tdf = tdf.set_index('Order Date')\n",
    "tdf.index"
   ]
  },
  {
   "cell_type": "code",
   "execution_count": null,
   "id": "59ef8ec9",
   "metadata": {},
   "outputs": [],
   "source": [
    "tdf"
   ]
  },
  {
   "cell_type": "code",
   "execution_count": null,
   "id": "c61b2d42",
   "metadata": {},
   "outputs": [],
   "source": [
    "# Changing the average monthly sales to monthly startup sales value because the previous data is tricky to work with:\n",
    "y = tdf['Sales'].resample('MS').mean()"
   ]
  },
  {
   "cell_type": "code",
   "execution_count": null,
   "id": "8824c0d9",
   "metadata": {},
   "outputs": [],
   "source": [
    "y"
   ]
  },
  {
   "cell_type": "code",
   "execution_count": null,
   "id": "2c3fb142",
   "metadata": {},
   "outputs": [],
   "source": [
    "# Visualizing Furniture Sales Time Series Data\n",
    "y.plot(figsize=(15, 6))\n",
    "plt.show()"
   ]
  },
  {
   "cell_type": "code",
   "execution_count": null,
   "id": "1a568b91",
   "metadata": {
    "scrolled": false
   },
   "outputs": [],
   "source": [
    "# Visualization of the data with respect to trend, seasonality, and noise:\n",
    "from pylab import rcParams\n",
    "rcParams['figure.figsize'] = 18, 8\n",
    "decomposition = sm.tsa.seasonal_decompose(y, model='additive')\n",
    "fig = decomposition.plot()\n",
    "plt.show()"
   ]
  },
  {
   "cell_type": "markdown",
   "id": "47e5f2ad",
   "metadata": {},
   "source": [
    "### Checking for stationarity:"
   ]
  },
  {
   "cell_type": "code",
   "execution_count": null,
   "id": "c79ffb5f",
   "metadata": {},
   "outputs": [],
   "source": [
    "from statsmodels.tsa.stattools import adfuller\n",
    "\n",
    "adfuller(y)"
   ]
  },
  {
   "cell_type": "code",
   "execution_count": null,
   "id": "853c7389",
   "metadata": {},
   "outputs": [],
   "source": [
    "# Get the p-value\n",
    "res = adfuller(y)\n",
    "res[1]"
   ]
  },
  {
   "cell_type": "code",
   "execution_count": null,
   "id": "58266555",
   "metadata": {},
   "outputs": [],
   "source": [
    "from statsmodels.stats.diagnostic import acorr_ljungbox\n",
    "\n",
    "acorr_ljungbox(y, lags=[1], return_df=True)"
   ]
  },
  {
   "cell_type": "markdown",
   "id": "f655fd76",
   "metadata": {},
   "source": [
    "### Time series forecasting with ARIMA"
   ]
  },
  {
   "cell_type": "code",
   "execution_count": null,
   "id": "8f1456d3",
   "metadata": {},
   "outputs": [],
   "source": [
    "p = d = q = range(0, 2)\n",
    "pdq = list(itertools.product(p, d, q))\n",
    "seasonal_pdq = [(x[0], x[1], x[2], 12) for x in list(itertools.product(p, d, q))]\n",
    "print('Examples of parameter combinations for Seasonal ARIMA...')\n",
    "print('SARIMAX: {} x {}'.format(pdq[1], seasonal_pdq[1]))\n",
    "print('SARIMAX: {} x {}'.format(pdq[1], seasonal_pdq[2]))\n",
    "print('SARIMAX: {} x {}'.format(pdq[2], seasonal_pdq[3]))\n",
    "print('SARIMAX: {} x {}'.format(pdq[2], seasonal_pdq[4]))"
   ]
  },
  {
   "cell_type": "code",
   "execution_count": null,
   "id": "d51cc4ee",
   "metadata": {},
   "outputs": [],
   "source": [
    "for param in pdq:\n",
    "    for param_seasonal in seasonal_pdq:\n",
    "        try:\n",
    "            mod = sm.tsa.statespace.SARIMAX(y,\n",
    "                                            order=param,\n",
    "                                            seasonal_order=param_seasonal,\n",
    "                                            enforce_stationarity=False,\n",
    "                                            enforce_invertibility=False)\n",
    "            results = mod.fit()\n",
    "            print('ARIMA{}x{}12 - AIC:{}'.format(param, param_seasonal, results.aic))\n",
    "        except:\n",
    "            continue"
   ]
  },
  {
   "cell_type": "markdown",
   "id": "14424606",
   "metadata": {},
   "source": [
    "### The above output suggests that ARIMA(0, 1, 1)x(0, 1, 1, 12)12 - AIC:325.30283752155196) yields the lowest AIC value of 325.30. Therefore we should consider this to be optimal option."
   ]
  },
  {
   "cell_type": "markdown",
   "id": "708afcf5",
   "metadata": {},
   "source": [
    "### Fitting the ARIMA model:"
   ]
  },
  {
   "cell_type": "code",
   "execution_count": null,
   "id": "27b2a209",
   "metadata": {},
   "outputs": [],
   "source": [
    "mod = sm.tsa.statespace.SARIMAX(y,\n",
    "                                order=(0, 1, 1),\n",
    "                                seasonal_order=(0, 1, 1, 12),\n",
    "                                enforce_stationarity=True,#enforce_stationarity=False\n",
    "                                enforce_invertibility=False)\n",
    "results = mod.fit()\n",
    "print(results.summary().tables[1])"
   ]
  },
  {
   "cell_type": "markdown",
   "id": "a36c38e7",
   "metadata": {},
   "source": [
    "### Running model diagnostics to investigate any unusual behavior:"
   ]
  },
  {
   "cell_type": "code",
   "execution_count": null,
   "id": "25492143",
   "metadata": {},
   "outputs": [],
   "source": [
    "results.plot_diagnostics(figsize=(20, 20))\n",
    "plt.show()"
   ]
  },
  {
   "cell_type": "markdown",
   "id": "a4dd3464",
   "metadata": {},
   "source": [
    "### Validating forecasts"
   ]
  },
  {
   "cell_type": "code",
   "execution_count": null,
   "id": "dbae6d4e",
   "metadata": {},
   "outputs": [],
   "source": [
    "pred = results.get_prediction(start=pd.to_datetime('2017-01-01'), dynamic=False)\n",
    "pred_ci = pred.conf_int()\n",
    "ax = y['2014':].plot(label='observed')\n",
    "pred.predicted_mean.plot(ax=ax, label='One-step ahead Forecast', alpha=.7, figsize=(14, 7))\n",
    "ax.fill_between(pred_ci.index,\n",
    "                pred_ci.iloc[:, 0],\n",
    "                pred_ci.iloc[:, 1], color='k', alpha=.2)\n",
    "ax.set_xlabel('Date')\n",
    "ax.set_ylabel('Furniture Sales')\n",
    "plt.legend()\n",
    "plt.show()"
   ]
  },
  {
   "cell_type": "code",
   "execution_count": null,
   "id": "032ea4b7",
   "metadata": {},
   "outputs": [],
   "source": [
    "y_forecasted = pred.predicted_mean\n",
    "y_truth = y['2017-01-01':]\n",
    "mse = ((y_forecasted - y_truth) ** 2).mean()\n",
    "print('The Mean Squared Error of our forecasts is {}'.format(round(mse, 2)))"
   ]
  },
  {
   "cell_type": "code",
   "execution_count": null,
   "id": "a76bf998",
   "metadata": {},
   "outputs": [],
   "source": [
    "print('The Root Mean Squared Error of our forecasts is {}'.format(round(np.sqrt(mse), 2)))"
   ]
  },
  {
   "cell_type": "code",
   "execution_count": null,
   "id": "b9c0f351",
   "metadata": {},
   "outputs": [],
   "source": [
    "pred_uc = results.get_forecast(steps=100)\n",
    "pred_ci = pred_uc.conf_int()\n",
    "ax = y.plot(label='observed', figsize=(14, 7))\n",
    "pred_uc.predicted_mean.plot(ax=ax, label='Forecast')\n",
    "ax.fill_between(pred_ci.index,\n",
    "                pred_ci.iloc[:, 0],\n",
    "                pred_ci.iloc[:, 1], color='k', alpha=.25)\n",
    "ax.set_xlabel('Date')\n",
    "ax.set_ylabel('Furniture Sales')\n",
    "plt.legend()\n",
    "plt.show()"
   ]
  },
  {
   "cell_type": "code",
   "execution_count": null,
   "id": "d5339675",
   "metadata": {},
   "outputs": [],
   "source": [
    "furniture = df.loc[df['Category'] == 'Furniture']\n",
    "office = df.loc[df['Category'] == 'Office Supplies']\n",
    "furniture.shape, office.shape"
   ]
  },
  {
   "cell_type": "code",
   "execution_count": null,
   "id": "f66b4695",
   "metadata": {},
   "outputs": [],
   "source": [
    "cols = ['Row ID', 'Order ID', 'Ship Date', 'Ship Mode', 'Customer ID', 'Customer Name', 'Segment', 'Country', 'City', 'State', 'Postal Code', 'Region', 'Product ID', 'Category', 'Sub-Category', 'Product Name', 'Quantity', 'Discount', 'Profit']\n",
    "furniture.drop(cols, axis=1, inplace=True)\n",
    "office.drop(cols, axis=1, inplace=True)\n",
    "furniture = furniture.sort_values('Order Date')\n",
    "office = office.sort_values('Order Date')\n",
    "furniture = furniture.groupby('Order Date')['Sales'].sum().reset_index()\n",
    "office = office.groupby('Order Date')['Sales'].sum().reset_index()\n",
    "furniture = furniture.set_index('Order Date')\n",
    "office = office.set_index('Order Date')\n",
    "y_furniture = furniture['Sales'].resample('MS').mean()\n",
    "y_office = office['Sales'].resample('MS').mean()\n",
    "furniture = pd.DataFrame({'Order Date':y_furniture.index, 'Sales':y_furniture.values})\n",
    "office = pd.DataFrame({'Order Date': y_office.index, 'Sales': y_office.values})\n",
    "store = furniture.merge(office, how='inner', on='Order Date')\n",
    "store.rename(columns={'Sales_x': 'furniture_sales', 'Sales_y': 'office_sales'}, inplace=True)\n",
    "store.head()"
   ]
  },
  {
   "cell_type": "code",
   "execution_count": null,
   "id": "8253f6fc",
   "metadata": {},
   "outputs": [],
   "source": [
    "plt.figure(figsize=(20, 8))\n",
    "plt.plot(store['Order Date'], store['furniture_sales'], 'b-', label = 'furniture')\n",
    "plt.plot(store['Order Date'], store['office_sales'], 'r-', label = 'office supplies')\n",
    "plt.xlabel('Date'); plt.ylabel('Sales'); plt.title('Sales of Furniture and Office Supplies')\n",
    "plt.legend();"
   ]
  },
  {
   "cell_type": "code",
   "execution_count": null,
   "id": "81b66a7e",
   "metadata": {},
   "outputs": [],
   "source": [
    "first_date = store[np.min(list(np.where(store['office_sales'] > store['furniture_sales'])[0])), 'Order Date']\n",
    "print(\"Office supplies first time produced higher sales than furniture is {}.\".format(first_date.date()))"
   ]
  },
  {
   "cell_type": "code",
   "execution_count": null,
   "id": "0bcf5691",
   "metadata": {},
   "outputs": [],
   "source": [
    "from fbprophet import Prophet\n",
    "furniture = furniture.rename(columns={'Order Date': 'ds', 'Sales': 'y'})\n",
    "furniture_model = Prophet(interval_width=0.95)\n",
    "furniture_model.fit(furniture)\n",
    "office = office.rename(columns={'Order Date': 'ds', 'Sales': 'y'})\n",
    "office_model = Prophet(interval_width=0.95)\n",
    "office_model.fit(office)\n",
    "furniture_forecast = furniture_model.make_future_dataframe(periods=36, freq='MS')\n",
    "furniture_forecast = furniture_model.predict(furniture_forecast)\n",
    "office_forecast = office_model.make_future_dataframe(periods=36, freq='MS')\n",
    "office_forecast = office_model.predict(office_forecast)\n",
    "plt.figure(figsize=(18, 6))\n",
    "furniture_model.plot(furniture_forecast, xlabel = 'Date', ylabel = 'Sales')\n",
    "plt.title('Furniture Sales');"
   ]
  },
  {
   "cell_type": "code",
   "execution_count": null,
   "id": "ea521fa1",
   "metadata": {},
   "outputs": [],
   "source": [
    "plt.figure(figsize=(18, 6))\n",
    "office_model.plot(office_forecast, xlabel = 'Date', ylabel = 'Sales')\n",
    "plt.title('Office Supplies Sales');"
   ]
  },
  {
   "cell_type": "code",
   "execution_count": null,
   "id": "8d5aee2e",
   "metadata": {},
   "outputs": [],
   "source": [
    "furniture_names = ['furniture_%s' % column for column in furniture_forecast.columns]\n",
    "office_names = ['office_%s' % column for column in office_forecast.columns]\n",
    "merge_furniture_forecast = furniture_forecast.copy()\n",
    "merge_office_forecast = office_forecast.copy()\n",
    "merge_furniture_forecast.columns = furniture_names\n",
    "merge_office_forecast.columns = office_names\n",
    "forecast = pd.merge(merge_furniture_forecast, merge_office_forecast, how = 'inner', left_on = 'furniture_ds', right_on = 'office_ds')\n",
    "forecast = forecast.rename(columns={'furniture_ds': 'Date'}).drop('office_ds', axis=1)\n",
    "forecast.head()"
   ]
  },
  {
   "cell_type": "code",
   "execution_count": null,
   "id": "63b61a28",
   "metadata": {},
   "outputs": [],
   "source": [
    "plt.figure(figsize=(10, 7))\n",
    "plt.plot(forecast['Date'], forecast['furniture_trend'], 'b-')\n",
    "plt.plot(forecast['Date'], forecast['office_trend'], 'r-')\n",
    "plt.legend(); plt.xlabel('Date'); plt.ylabel('Sales')\n",
    "plt.title('Furniture vs. Office Supplies Sales Trend');"
   ]
  },
  {
   "cell_type": "code",
   "execution_count": null,
   "id": "4d8ab695",
   "metadata": {},
   "outputs": [],
   "source": [
    "plt.figure(figsize=(10, 7))\n",
    "plt.plot(forecast['Date'], forecast['furniture_yhat'], 'b-')\n",
    "plt.plot(forecast['Date'], forecast['office_yhat'], 'r-')\n",
    "plt.legend(); plt.xlabel('Date'); plt.ylabel('Sales')\n",
    "plt.title('Furniture vs. Office Supplies Estimate');"
   ]
  },
  {
   "cell_type": "code",
   "execution_count": null,
   "id": "f8ff275f",
   "metadata": {},
   "outputs": [],
   "source": [
    "furniture_model.plot_components(furniture_forecast);"
   ]
  },
  {
   "cell_type": "code",
   "execution_count": null,
   "id": "e18c3078",
   "metadata": {},
   "outputs": [],
   "source": [
    "office_model.plot_components(office_forecast);"
   ]
  },
  {
   "cell_type": "code",
   "execution_count": null,
   "id": "d63d32a1",
   "metadata": {},
   "outputs": [],
   "source": []
  }
 ],
 "metadata": {
  "kernelspec": {
   "display_name": "Python 3 (ipykernel)",
   "language": "python",
   "name": "python3"
  },
  "language_info": {
   "codemirror_mode": {
    "name": "ipython",
    "version": 3
   },
   "file_extension": ".py",
   "mimetype": "text/x-python",
   "name": "python",
   "nbconvert_exporter": "python",
   "pygments_lexer": "ipython3",
   "version": "3.9.7"
  }
 },
 "nbformat": 4,
 "nbformat_minor": 5
}
